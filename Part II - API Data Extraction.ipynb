{
 "cells": [
  {
   "cell_type": "markdown",
   "metadata": {},
   "source": [
    "# API Data Extraction\n",
    "\n",
    "Using all the scraped movie ID with the OMDB API to get movie information for each title."
   ]
  },
  {
   "cell_type": "code",
   "execution_count": 1,
   "metadata": {
    "collapsed": true
   },
   "outputs": [],
   "source": [
    "from urllib2 import Request, urlopen, URLError\n",
    "import pandas as pd\n",
    "import json\n",
    "import requests\n",
    "from pandas.io.json import json_normalize"
   ]
  },
  {
   "cell_type": "markdown",
   "metadata": {},
   "source": [
    "**Import the previously scraped movie id along with the title**"
   ]
  },
  {
   "cell_type": "code",
   "execution_count": 2,
   "metadata": {
    "collapsed": true
   },
   "outputs": [],
   "source": [
    "data = pd.read_csv('./data.csv')"
   ]
  },
  {
   "cell_type": "code",
   "execution_count": 3,
   "metadata": {},
   "outputs": [
    {
     "data": {
      "text/html": [
       "<div>\n",
       "<table border=\"1\" class=\"dataframe\">\n",
       "  <thead>\n",
       "    <tr style=\"text-align: right;\">\n",
       "      <th></th>\n",
       "      <th>id</th>\n",
       "      <th>name</th>\n",
       "    </tr>\n",
       "  </thead>\n",
       "  <tbody>\n",
       "    <tr>\n",
       "      <th>0</th>\n",
       "      <td>tt0110912</td>\n",
       "      <td>Pulp Fiction</td>\n",
       "    </tr>\n",
       "    <tr>\n",
       "      <th>1</th>\n",
       "      <td>tt1872181</td>\n",
       "      <td>The Amazing Spider-Man 2</td>\n",
       "    </tr>\n",
       "    <tr>\n",
       "      <th>2</th>\n",
       "      <td>tt0111161</td>\n",
       "      <td>The Shawshank Redemption</td>\n",
       "    </tr>\n",
       "    <tr>\n",
       "      <th>3</th>\n",
       "      <td>tt0076759</td>\n",
       "      <td>Star Wars: Episode IV - A New Hope</td>\n",
       "    </tr>\n",
       "    <tr>\n",
       "      <th>4</th>\n",
       "      <td>tt0088763</td>\n",
       "      <td>Back to the Future</td>\n",
       "    </tr>\n",
       "  </tbody>\n",
       "</table>\n",
       "</div>"
      ],
      "text/plain": [
       "          id                                name\n",
       "0  tt0110912                        Pulp Fiction\n",
       "1  tt1872181            The Amazing Spider-Man 2\n",
       "2  tt0111161            The Shawshank Redemption\n",
       "3  tt0076759  Star Wars: Episode IV - A New Hope\n",
       "4  tt0088763                  Back to the Future"
      ]
     },
     "execution_count": 3,
     "metadata": {},
     "output_type": "execute_result"
    }
   ],
   "source": [
    "data.head()"
   ]
  },
  {
   "cell_type": "code",
   "execution_count": 4,
   "metadata": {},
   "outputs": [
    {
     "data": {
      "text/plain": [
       "'tt0110912'"
      ]
     },
     "execution_count": 4,
     "metadata": {},
     "output_type": "execute_result"
    }
   ],
   "source": [
    "data['id'][0]"
   ]
  },
  {
   "cell_type": "markdown",
   "metadata": {},
   "source": [
    "**Generate a list of api calls that will be sent out**"
   ]
  },
  {
   "cell_type": "code",
   "execution_count": 5,
   "metadata": {
    "collapsed": true
   },
   "outputs": [],
   "source": [
    "api_calls = []\n",
    "\n",
    "for ids in range(len(data)):\n",
    "    api_calls.append('http://www.omdbapi.com/?i='+data['id'][ids]+'&plot=full')"
   ]
  },
  {
   "cell_type": "code",
   "execution_count": 6,
   "metadata": {},
   "outputs": [
    {
     "data": {
      "text/plain": [
       "['http://www.omdbapi.com/?i=tt0110912&plot=full',\n",
       " 'http://www.omdbapi.com/?i=tt1872181&plot=full',\n",
       " 'http://www.omdbapi.com/?i=tt0111161&plot=full',\n",
       " 'http://www.omdbapi.com/?i=tt0076759&plot=full',\n",
       " 'http://www.omdbapi.com/?i=tt0088763&plot=full']"
      ]
     },
     "execution_count": 6,
     "metadata": {},
     "output_type": "execute_result"
    }
   ],
   "source": [
    "api_calls[:5]"
   ]
  },
  {
   "cell_type": "markdown",
   "metadata": {},
   "source": [
    "**Create a function to go through the API call and return a singular dataframe object**"
   ]
  },
  {
   "cell_type": "code",
   "execution_count": 7,
   "metadata": {
    "collapsed": true
   },
   "outputs": [],
   "source": [
    "def get_row(api_call):\n",
    "    request = Request(api_call)\n",
    "    response = urlopen(request)\n",
    "    info = response.read()\n",
    "    row = pd.read_json(info, typ='series', orient='values')\n",
    "    return row"
   ]
  },
  {
   "cell_type": "markdown",
   "metadata": {},
   "source": [
    "** Have the loop go through all the api calls that were previously generated and append them to a larger dataframe**\n",
    "\n",
    "Keep track of failed API calls, in the end only 3 failed."
   ]
  },
  {
   "cell_type": "code",
   "execution_count": 18,
   "metadata": {
    "collapsed": true
   },
   "outputs": [],
   "source": [
    "movies = pd.DataFrame()"
   ]
  },
  {
   "cell_type": "code",
   "execution_count": 19,
   "metadata": {},
   "outputs": [
    {
     "name": "stdout",
     "output_type": "stream",
     "text": [
      "500 DONE\n",
      "1000 DONE\n",
      "1500 DONE\n",
      "2000 DONE\n",
      "2500 DONE\n",
      "3000 DONE\n",
      "3500 DONE\n",
      "4000 DONE\n",
      "4500 DONE\n",
      "5000 DONE\n",
      "skipped: 5344\n",
      "5500 DONE\n",
      "6000 DONE\n",
      "6500 DONE\n",
      "7000 DONE\n",
      "7500 DONE\n",
      "8000 DONE\n",
      "8500 DONE\n",
      "skipped: 8587\n",
      "skipped: 8618\n",
      "9000 DONE\n",
      "9500 DONE\n"
     ]
    }
   ],
   "source": [
    "counter = 1\n",
    "for ac in api_calls:\n",
    "    try:\n",
    "        temp = get_row(ac)\n",
    "        movies = pd.concat([movies,temp], axis=1, ignore_index=True )\n",
    "        counter +=1\n",
    "        if(counter%500 == 0):\n",
    "            print counter, 'DONE'\n",
    "    except:\n",
    "        print 'skipped:',counter\n",
    "        counter+=1\n",
    "        continue"
   ]
  },
  {
   "cell_type": "code",
   "execution_count": 20,
   "metadata": {
    "collapsed": true
   },
   "outputs": [],
   "source": [
    "movies = movies.transpose()"
   ]
  },
  {
   "cell_type": "markdown",
   "metadata": {},
   "source": [
    "**Saved all extracted info and move on to the cleaning stage**"
   ]
  },
  {
   "cell_type": "code",
   "execution_count": 38,
   "metadata": {
    "collapsed": true
   },
   "outputs": [],
   "source": [
    "file_name = '../project-6-apis-randomforests/movieinfo.csv'\n",
    "movies.to_csv(file_name, index = False, encoding='utf-8')"
   ]
  }
 ],
 "metadata": {
  "kernelspec": {
   "display_name": "Python 2",
   "language": "python",
   "name": "python2"
  },
  "language_info": {
   "codemirror_mode": {
    "name": "ipython",
    "version": 2
   },
   "file_extension": ".py",
   "mimetype": "text/x-python",
   "name": "python",
   "nbconvert_exporter": "python",
   "pygments_lexer": "ipython2",
   "version": "2.7.13"
  }
 },
 "nbformat": 4,
 "nbformat_minor": 2
}
